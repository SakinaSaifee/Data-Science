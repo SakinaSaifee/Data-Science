{
  "nbformat": 4,
  "nbformat_minor": 0,
  "metadata": {
    "colab": {
      "name": "Untitled1.ipynb",
      "provenance": [],
      "collapsed_sections": [],
      "authorship_tag": "ABX9TyNZD7vRgaxV2sTVYpnl5D/f",
      "include_colab_link": true
    },
    "kernelspec": {
      "name": "python3",
      "display_name": "Python 3"
    }
  },
  "cells": [
    {
      "cell_type": "markdown",
      "metadata": {
        "id": "view-in-github",
        "colab_type": "text"
      },
      "source": [
        "<a href=\"https://colab.research.google.com/github/SakinaSaifee/Data-Science/blob/master/WebScrapping%26DataAnalytics.ipynb\" target=\"_parent\"><img src=\"https://colab.research.google.com/assets/colab-badge.svg\" alt=\"Open In Colab\"/></a>"
      ]
    },
    {
      "cell_type": "code",
      "metadata": {
        "id": "lMHCVmOTuBR5",
        "colab_type": "code",
        "colab": {}
      },
      "source": [
        "df = pd.DataFrame(columns=[\"Title\", \"Location\", \"Company\", \n",
        "                           \"Salary\", \"Sponsored\"])"
      ],
      "execution_count": 0,
      "outputs": []
    },
    {
      "cell_type": "code",
      "metadata": {
        "id": "HIfxXI04uFQu",
        "colab_type": "code",
        "colab": {}
      },
      "source": [
        "driver = webdriver.Chrome(\"/Users/sakina/Downloads/chromedriver\")"
      ],
      "execution_count": 0,
      "outputs": []
    },
    {
      "cell_type": "code",
      "metadata": {
        "id": "Wj3gh3SquNo3",
        "colab_type": "code",
        "colab": {}
      },
      "source": [
        "from time import sleep\n",
        "for i in range(0, 20, 10):\n",
        "    driver.get(\"https://www.indeed.co.in/jobs?q=artificial+intelligence&l=India&start=\"+str(i))\n",
        "    titles = []\n",
        "    locations = []\n",
        "    companys = []\n",
        "    salarys = []\n",
        "    sponsoreds = []\n",
        "    sleep(5)\n",
        "    elements = driver.find_elements_by_class_name(\"result\")\n",
        "    for job in elements:\n",
        "        soup = BeautifulSoup(job.get_attribute(\"innerHTML\"), 'html.parser')\n",
        "        try:\n",
        "            title = soup.find(\"a\", class_=\"jobtitle\").text.replace(\"\\n\",\"\").strip()\n",
        "            print(title)\n",
        "        except:\n",
        "            pass\n"
      ],
      "execution_count": 0,
      "outputs": []
    },
    {
      "cell_type": "code",
      "metadata": {
        "id": "wYVWfywpuVE3",
        "colab_type": "code",
        "colab": {}
      },
      "source": [
        "from time import sleep\n",
        "for i in range(0, 500, 10):\n",
        "    driver.get(\"https://www.indeed.co.in/jobs?q=artificial+intelligence&l=India&start=\"+str(i))\n",
        "    titles = []\n",
        "    locations = []\n",
        "    companys = []\n",
        "    salarys = []\n",
        "    sponsoreds = []\n",
        "    sleep(5)\n",
        "    elements = driver.find_elements_by_class_name(\"result\")\n",
        "    for job in elements:\n",
        "        soup = BeautifulSoup(job.get_attribute(\"innerHTML\"), 'html.parser')\n",
        "        try:\n",
        "            title = soup.find(\"a\", class_=\"jobtitle\").text.replace(\"\\n\",\"\").strip()\n",
        "            titles.append(title)\n",
        "        except:\n",
        "            title = None\n",
        "            titles.append(title)\n",
        "        \n",
        "        try:\n",
        "            location = soup.find( class_=\"location\").text.replace(\"\\n\",\"\").strip()\n",
        "            locations.append(location)\n",
        "        except:\n",
        "            location = None\n",
        "            locations.append(location)\n",
        "        \n",
        "        try:\n",
        "            company = soup.find(class_=\"company\").text.replace(\"\\n\",\"\").strip()\n",
        "            companys.append(company)\n",
        "        except:\n",
        "            company = None\n",
        "            companys.append(company)\n",
        "        \n",
        "        try:\n",
        "            salary = soup.find( class_=\"salary\").text.replace(\"\\n\",\"\").strip()\n",
        "            salarys.append(salary)\n",
        "        except:\n",
        "            salary = None\n",
        "            salarys.append(salary)\n",
        "        \n",
        "        try:\n",
        "            sponsored = soup.find(class_=\"sponsoredGray\").text.replace(\"\\n\",\"\").strip()\n",
        "            sponsored = \"sponsored\"\n",
        "            sponsoreds.append(sponsored)\n",
        "        except:\n",
        "            sponsored = None\n",
        "            sponsoreds.append(sponsored)\n",
        "        \n",
        "df = pd.DataFrame({\n",
        "    \"Title\":titles,\n",
        "    \"Location\":locations,\n",
        "    \"Company\":companys,\n",
        "    \"Salary\":salarys,\n",
        "    \"Sponsored\":sponsoreds\n",
        "})\n",
        "df.to_csv(\"ai.csv\")\n"
      ],
      "execution_count": 0,
      "outputs": []
    },
    {
      "cell_type": "code",
      "metadata": {
        "id": "j-zuJHAUuZ86",
        "colab_type": "code",
        "colab": {}
      },
      "source": [
        "#df1 = pd.read_csv(\"machinelearning.csv\")\n",
        "df2 = pd.read_csv(\"ai.csv\")\n",
        "df3 = pd.read_csv(\"data_analyst.csv\")\n",
        "df4 = pd.read_csv(\"datascience2.csv\")"
      ],
      "execution_count": 0,
      "outputs": []
    },
    {
      "cell_type": "code",
      "metadata": {
        "id": "wN_GhuNWudZR",
        "colab_type": "code",
        "colab": {}
      },
      "source": [
        "df.shape"
      ],
      "execution_count": 0,
      "outputs": []
    },
    {
      "cell_type": "code",
      "metadata": {
        "id": "1rbPR5ioug8u",
        "colab_type": "code",
        "colab": {}
      },
      "source": [
        "df[\"Sponsored\"].value_counts()"
      ],
      "execution_count": 0,
      "outputs": []
    },
    {
      "cell_type": "code",
      "metadata": {
        "id": "SlI-RxiOukJ9",
        "colab_type": "code",
        "colab": {}
      },
      "source": [
        "import matplotlib.pyplot as plt\n",
        "g = df.groupby(\"Company\")\n",
        "value = g.count()[\"Title\"].sort_values(ascending = False)[:15]\n",
        "v = value.values\n",
        "v\n",
        "value.plot(\"bar\", figsize = (20, 5))\n",
        "plt.show()\n"
      ],
      "execution_count": 0,
      "outputs": []
    },
    {
      "cell_type": "code",
      "metadata": {
        "id": "FOBmxd0NunTl",
        "colab_type": "code",
        "colab": {}
      },
      "source": [
        "import nltk\n",
        "from nltk import word_tokenize\n",
        "from nltk.corpus import stopwords\n",
        "stop_words = stopwords.words(\"english\")"
      ],
      "execution_count": 0,
      "outputs": []
    },
    {
      "cell_type": "code",
      "metadata": {
        "id": "dtqyuVN5uoV8",
        "colab_type": "code",
        "colab": {}
      },
      "source": [
        "def CleanData(desc):\n",
        "    desc = word_tokenize(str(desc))\n",
        "    data = []\n",
        "    for word in desc:\n",
        "        lower = word.lower()\n",
        "        if lower not in stop_words:\n",
        "            data.append(lower)\n",
        "    return data\n",
        "            "
      ],
      "execution_count": 0,
      "outputs": []
    },
    {
      "cell_type": "code",
      "metadata": {
        "id": "-p87yX6Muq2I",
        "colab_type": "code",
        "colab": {}
      },
      "source": [
        "x = [('nan', 14), ('vendor', 33), ('master', 93), ('data', 4365), ('analyst', 315), ('part', 234), ('global', 357), ('team', 1220), ('establishes', 6), ('follows', 5), ('procedures', 94), ('maintain', 174), ('integrity', 74), ('sap', 181), ('.', 9513), ('allow', 23), ('business', 1508), ('objectives', 54), ('met', 16), ('compliant', 10), ('(', 1975), ('regional', 23), (')', 1996), ('government', 35), ('regulations', 36), ('hexion', 2), ('role', 380), ('key', 269), ('setting', 23)]\n",
        "y = sorted(x, key = lambda kv: kv[1], reverse=True)\n",
        "for k, v in y:\n",
        "    print({k:v})\n"
      ],
      "execution_count": 0,
      "outputs": []
    },
    {
      "cell_type": "code",
      "metadata": {
        "id": "RxS_iLgBuvwT",
        "colab_type": "code",
        "colab": {}
      },
      "source": [
        "tags_df = df[\"Description\"].apply(CleanData)"
      ],
      "execution_count": 0,
      "outputs": []
    },
    {
      "cell_type": "code",
      "metadata": {
        "id": "A8f8WhsmuxUp",
        "colab_type": "code",
        "colab": {}
      },
      "source": [
        "from collections import Counter\n",
        "result = tags_df.apply(Counter).sum().items()\n",
        "result"
      ],
      "execution_count": 0,
      "outputs": []
    },
    {
      "cell_type": "code",
      "metadata": {
        "id": "HhHk_8e-u0Va",
        "colab_type": "code",
        "colab": {}
      },
      "source": [
        "from collections import Counter\n",
        "result = tags_df.apply(Counter).sum().items()\n",
        "result = sorted(result, key = lambda kv: kv[1], reverse=True)\n",
        "result_series = pd.Series(\n",
        "{\n",
        "  k:v  for k, v in result\n",
        "})"
      ],
      "execution_count": 0,
      "outputs": []
    },
    {
      "cell_type": "code",
      "metadata": {
        "id": "NapJcQYZu5MF",
        "colab_type": "code",
        "colab": {}
      },
      "source": [
        "skills = [\"opencv\", \"pandas\", \"nltk\", \"matplotlib\", \"django\", \"python\", \"php\"]"
      ],
      "execution_count": 0,
      "outputs": []
    },
    {
      "cell_type": "code",
      "metadata": {
        "id": "q4wC1CxUu8mZ",
        "colab_type": "code",
        "colab": {}
      },
      "source": [
        "filter1 = result_series.filter(items=skills)\n",
        "filter1.plot('bar', figsize = (20, 5))\n",
        "plt.show()"
      ],
      "execution_count": 0,
      "outputs": []
    }
  ]
}